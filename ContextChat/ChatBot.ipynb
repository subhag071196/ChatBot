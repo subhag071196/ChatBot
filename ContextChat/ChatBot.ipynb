{
 "cells": [
  {
   "cell_type": "markdown",
   "metadata": {},
   "source": [
    "### 1) Import the necessary headers"
   ]
  },
  {
   "cell_type": "code",
   "execution_count": 108,
   "metadata": {},
   "outputs": [],
   "source": [
    "#NLP\n",
    "import nltk\n",
    "from nltk.stem.lancaster import LancasterStemmer   # Lancaster stemmer is the most aggressive and the fastest.\n",
    "stemmer = LancasterStemmer()\n",
    "\n",
    "#TensorFlow\n",
    "import numpy as np\n",
    "import tensorflow as tf\n",
    "import tflearn \n",
    "import random"
   ]
  },
  {
   "cell_type": "markdown",
   "metadata": {},
   "source": [
    "### 2) Import the intents file"
   ]
  },
  {
   "cell_type": "code",
   "execution_count": 110,
   "metadata": {},
   "outputs": [],
   "source": [
    "import json\n",
    "with open('s_intents.json') as json_data:\n",
    "    intents = json.load(json_data)"
   ]
  },
  {
   "cell_type": "markdown",
   "metadata": {},
   "source": [
    "### 3.1) Organize documents, words and classification classes"
   ]
  },
  {
   "cell_type": "code",
   "execution_count": 111,
   "metadata": {},
   "outputs": [],
   "source": [
    "words = []\n",
    "classes = []\n",
    "documents = []\n",
    "ignore_words = ['?']\n",
    "\n",
    "#loop through each sentence in our intent patterns:\n",
    "for intent in intents['intents']:\n",
    "    for pattern in intent['patterns']:\n",
    "        #tokenize word in each sentence\n",
    "        w = nltk.word_tokenize(pattern)\n",
    "        #add to our word list\n",
    "        words.extend(w)\n",
    "        #add to documents in our corpus\n",
    "        documents.append((w, intent['tag']))\n",
    "        # add to our classes list\n",
    "        if intent['tag'] not in classes:\n",
    "            classes.append(intent['tag'])"
   ]
  },
  {
   "cell_type": "markdown",
   "metadata": {},
   "source": [
    "### 3.2) Stem and Lower each word and remove duplicates"
   ]
  },
  {
   "cell_type": "code",
   "execution_count": 112,
   "metadata": {},
   "outputs": [],
   "source": [
    "words = [stemmer.stem(w.lower()) for w in words if w not in ignore_words]"
   ]
  },
  {
   "cell_type": "code",
   "execution_count": 113,
   "metadata": {},
   "outputs": [],
   "source": [
    "words = sorted(list(set(words)))"
   ]
  },
  {
   "cell_type": "code",
   "execution_count": 114,
   "metadata": {},
   "outputs": [],
   "source": [
    "classes = sorted(list(set(classes)))"
   ]
  },
  {
   "cell_type": "code",
   "execution_count": 115,
   "metadata": {},
   "outputs": [
    {
     "name": "stdout",
     "output_type": "stream",
     "text": [
      "74 documents [(['Hi'], 'greeting'), (['How', 'are', 'you'], 'greeting'), (['Is', 'anyone', 'there', '?'], 'greeting'), (['Hello'], 'greeting'), (['Good', 'day'], 'greeting'), (['Starters'], 'starters'), (['Snacks'], 'starters'), (['What', 'is', 'in', 'starters', '?'], 'starters'), (['Show', 'me', 'some', 'starters', '!'], 'starters'), (['I', 'want', 'some', 'snacks', '!'], 'starters'), (['what', 'all', 'starters', 'are', 'there', '!'], 'starters'), (['main', 'course'], 'maincourse'), (['maincourse'], 'maincourse'), (['I', 'wish', 'to', 'have', 'dinner'], 'maincourse'), (['what', 'is', 'in', 'main', 'course', '?'], 'maincourse'), (['Main', 'course'], 'maincourse'), (['dessert'], 'desserts'), (['desert', 'menu'], 'desserts'), (['what', 'is', 'in', 'deserts'], 'desserts'), (['desserts'], 'desserts'), (['show', 'me', 'desserts'], 'desserts'), (['Dal'], 'food'), (['daal'], 'food'), (['daaal'], 'food'), (['panir'], 'food'), (['paneeer'], 'food'), (['Paneer'], 'food'), (['soya'], 'food'), (['chaap'], 'food'), (['soya', 'chap'], 'food'), (['Soya', 'Chaap'], 'food'), (['Mushroom'], 'food'), (['mashrum'], 'food'), (['mashroom'], 'food'), (['mushrom'], 'food'), (['Raajmaa'], 'food'), (['rajmaa'], 'food'), (['raajma'], 'food'), (['rajma'], 'food'), (['biryanee'], 'food'), (['birani'], 'food'), (['Biryani'], 'food'), (['Spring', 'Rolls'], 'food'), (['Chilli', 'Paneer'], 'food'), (['Momos'], 'food'), (['Paneer', 'Tikka'], 'food'), (['Achari', 'Chaap'], 'food'), (['gulab'], 'food'), (['jamun'], 'food'), (['gulab', 'jamun'], 'food'), (['icecream'], 'food'), (['ice'], 'food'), (['cream'], 'food'), (['full'], 'ordersize'), (['full', 'plate'], 'ordersize'), (['fullplate'], 'ordersize'), (['half'], 'ordersize'), (['Half'], 'ordersize'), (['halfplate'], 'ordersize'), (['half', 'plate'], 'ordersize'), (['plate'], 'ordersize'), (['cash', 'on', 'delivery'], 'cashpayment'), (['cash'], 'cashpayment'), (['delivery'], 'cashpayment'), (['online'], 'onlinepayment'), (['on', 'line'], 'onlinepayment'), (['onlin'], 'onlinepayment'), (['Bye'], 'goodbye'), (['See', 'you', 'later'], 'goodbye'), (['Goodbye'], 'goodbye'), (['Thanks'], 'thanks'), (['Thank', 'you'], 'thanks'), (['That', \"'s\", 'helpful'], 'thanks'), (['Good', 'Job'], 'thanks')]\n",
      "10 classes ['cashpayment', 'desserts', 'food', 'goodbye', 'greeting', 'maincourse', 'onlinepayment', 'ordersize', 'starters', 'thanks']\n",
      "80 unique stemmed words ['!', \"'s\", 'achar', 'al', 'anyon', 'ar', 'biran', 'biry', 'biryan', 'bye', 'cash', 'chaap', 'chap', 'chill', 'cours', 'cream', 'daa', 'daal', 'dal', 'day', 'delivery', 'desert', 'dessert', 'din', 'ful', 'fullpl', 'good', 'goodby', 'gulab', 'half', 'halfpl', 'hav', 'hello', 'help', 'hi', 'how', 'i', 'ic', 'icecream', 'in', 'is', 'jamun', 'job', 'lat', 'lin', 'main', 'maincours', 'mashr', 'mashroom', 'me', 'menu', 'momo', 'mushrom', 'mushroom', 'on', 'onlin', 'pan', 'panir', 'plat', 'raajm', 'raajma', 'rajm', 'rajma', 'rol', 'see', 'show', 'snack', 'som', 'soy', 'spring', 'start', 'thank', 'that', 'ther', 'tikk', 'to', 'want', 'what', 'wish', 'you']\n"
     ]
    }
   ],
   "source": [
    "print(len(documents),\"documents\",documents)\n",
    "print (len(classes), \"classes\", classes)\n",
    "print (len(words), \"unique stemmed words\", words)"
   ]
  },
  {
   "cell_type": "markdown",
   "metadata": {},
   "source": [
    "### 4) Now this data needs to be converted for use by Tensorflow"
   ]
  },
  {
   "cell_type": "code",
   "execution_count": 116,
   "metadata": {},
   "outputs": [],
   "source": [
    "#create training data"
   ]
  },
  {
   "cell_type": "code",
   "execution_count": 117,
   "metadata": {},
   "outputs": [],
   "source": [
    "training = []\n",
    "output = []\n",
    "# create an empty array for our output\n",
    "output_empty = [0] * len(classes)"
   ]
  },
  {
   "cell_type": "code",
   "execution_count": 118,
   "metadata": {},
   "outputs": [],
   "source": [
    "#training set, bag of words for each sentence"
   ]
  },
  {
   "cell_type": "code",
   "execution_count": 119,
   "metadata": {},
   "outputs": [],
   "source": [
    "for doc in documents:     #document is a pair (x,y), where x is a word and y is the intent\n",
    "    #initialize bag of words\n",
    "    bag = []\n",
    "    # list of tokenized words for the pattern\n",
    "    pattern_words = doc[0]\n",
    "    #stem each word\n",
    "    pattern_words = [stemmer.stem(word.lower()) for word in pattern_words]\n",
    "    #create our bag of words array\n",
    "    for w in words:\n",
    "        bag.append(1) if w in pattern_words else  bag.append(0)\n",
    "    \n",
    "    output_row = list(output_empty)\n",
    "    output_row[classes.index(doc[1])] = 1\n",
    "    training.append([bag, output_row])"
   ]
  },
  {
   "cell_type": "markdown",
   "metadata": {},
   "source": [
    "### 5) Shuffle our features and turn into np array"
   ]
  },
  {
   "cell_type": "code",
   "execution_count": 120,
   "metadata": {},
   "outputs": [],
   "source": [
    "random.shuffle(training)\n",
    "training = np.array(training)"
   ]
  },
  {
   "cell_type": "code",
   "execution_count": 121,
   "metadata": {},
   "outputs": [],
   "source": [
    "#create train and test sets\n",
    "\n",
    "train_x = list(training[:,0])\n",
    "train_y = list(training[:,1])"
   ]
  },
  {
   "cell_type": "markdown",
   "metadata": {},
   "source": [
    "### 6) Building the model"
   ]
  },
  {
   "cell_type": "code",
   "execution_count": 122,
   "metadata": {},
   "outputs": [
    {
     "name": "stdout",
     "output_type": "stream",
     "text": [
      "Training Step: 9999  | total loss: \u001b[1m\u001b[32m0.00242\u001b[0m\u001b[0m | time: 0.042s\n",
      "| Adam | epoch: 1000 | loss: 0.00242 - acc: 1.0000 -- iter: 72/74\n",
      "Training Step: 10000  | total loss: \u001b[1m\u001b[32m0.00235\u001b[0m\u001b[0m | time: 0.051s\n",
      "| Adam | epoch: 1000 | loss: 0.00235 - acc: 1.0000 -- iter: 74/74\n",
      "--\n",
      "INFO:tensorflow:/home/subhag/Projects/ChatBot/ContextChat/model.tflearn is not in all_model_checkpoint_paths. Manually adding it.\n"
     ]
    }
   ],
   "source": [
    "#reset underlying graph data\n",
    "tf.reset_default_graph()\n",
    "#Build Neural Network\n",
    "net = tflearn.input_data(shape=[None,len(train_x[0])])\n",
    "net = tflearn.fully_connected(net,8)\n",
    "net = tflearn.fully_connected(net,8)\n",
    "net = tflearn.fully_connected(net, len(train_y[0]), activation='softmax')\n",
    "net = tflearn.regression(net)\n",
    "\n",
    "# Define model and setup tensorboard\n",
    "model = tflearn.DNN(net,tensorboard_dir='tflearn_logs')\n",
    "# Start training (apply Gradient Descent)\n",
    "model.fit(train_x, train_y, n_epoch=1000, batch_size=8, show_metric=True)\n",
    "model.save('model.tflearn')"
   ]
  },
  {
   "cell_type": "markdown",
   "metadata": {},
   "source": [
    "### 7) Save all the data structures"
   ]
  },
  {
   "cell_type": "code",
   "execution_count": 124,
   "metadata": {},
   "outputs": [],
   "source": [
    "import pickle\n",
    "pickle.dump({'words':words, 'classes':classes, 'train_x':train_x, 'train_y':train_y}, open( \"training_data\", \"wb\" ))"
   ]
  },
  {
   "cell_type": "markdown",
   "metadata": {},
   "source": [
    "### 8) Building the chatbot framework"
   ]
  },
  {
   "cell_type": "code",
   "execution_count": 125,
   "metadata": {},
   "outputs": [],
   "source": [
    "data = pickle.load( open( \"training_data\", \"rb\" ) )\n",
    "words = data['words']\n",
    "classes = data['classes']\n",
    "train_x = data['train_x']\n",
    "train_y = data['train_y']"
   ]
  },
  {
   "cell_type": "code",
   "execution_count": 126,
   "metadata": {},
   "outputs": [
    {
     "name": "stdout",
     "output_type": "stream",
     "text": [
      "INFO:tensorflow:Restoring parameters from /home/subhag/Projects/ChatBot/ContextChat/model.tflearn\n"
     ]
    }
   ],
   "source": [
    "model.load('./model.tflearn')"
   ]
  },
  {
   "cell_type": "markdown",
   "metadata": {},
   "source": [
    "### 9) Before moving further, convert user input to Bag of Words"
   ]
  },
  {
   "cell_type": "code",
   "execution_count": 127,
   "metadata": {},
   "outputs": [],
   "source": [
    "def clean_up_sentence(sentence):\n",
    "    #tokenize the pattern\n",
    "    sentence_words = nltk.word_tokenize(sentence)\n",
    "    #stem each word\n",
    "    sentence_words = [stemmer.stem(w.lower()) for w in sentence_words]\n",
    "    return sentence_words"
   ]
  },
  {
   "cell_type": "code",
   "execution_count": 128,
   "metadata": {},
   "outputs": [],
   "source": [
    "def bag_of_words(sentence, words, show_details=False):\n",
    "    #tokenize the pattern\n",
    "    sentence_words = clean_up_sentence(sentence)\n",
    "    #bag of words\n",
    "    bag = [0]*len(words)\n",
    "    for s in sentence_words:\n",
    "        for i, w in enumerate(words):\n",
    "            if s == w:\n",
    "                bag[i] = 1\n",
    "                if show_details:\n",
    "                    print(\"found in bag: %s\" %w)\n",
    "                    \n",
    "    return(np.array(bag))"
   ]
  },
  {
   "cell_type": "code",
   "execution_count": 129,
   "metadata": {},
   "outputs": [],
   "source": [
    "p = bag_of_words(\"I am hungry\",words)"
   ]
  },
  {
   "cell_type": "code",
   "execution_count": 130,
   "metadata": {},
   "outputs": [
    {
     "name": "stdout",
     "output_type": "stream",
     "text": [
      "[0 0 0 0 0 0 0 0 0 0 0 0 0 0 0 0 0 0 0 0 0 0 0 0 0 0 0 0 0 0 0 0 0 0 0 0 1\n",
      " 0 0 0 0 0 0 0 0 0 0 0 0 0 0 0 0 0 0 0 0 0 0 0 0 0 0 0 0 0 0 0 0 0 0 0 0 0\n",
      " 0 0 0 0 0 0]\n"
     ]
    }
   ],
   "source": [
    "print(p)"
   ]
  },
  {
   "cell_type": "markdown",
   "metadata": {},
   "source": [
    "### 10) Buillding the response processor"
   ]
  },
  {
   "cell_type": "code",
   "execution_count": 131,
   "metadata": {},
   "outputs": [],
   "source": [
    "error_threshold = 0.40\n",
    "\n",
    "\n",
    "def classify(sentence):\n",
    "    #generate probabilities from the model\n",
    "    results = model.predict([bag_of_words(sentence,words)])[0]\n",
    "    #filter out predictions below a threshold\n",
    "    results = [[i,r] for i,r in enumerate(results) if r>error_threshold]\n",
    "    #sort by strength of probability\n",
    "    results.sort(key = lambda x: x[1], reverse=True)\n",
    "    return_list = []\n",
    "    for r in results:\n",
    "        return_list.append((classes[r[0]],r[1]))\n",
    "    # return tuple of intent and probability\n",
    "    return return_list\n",
    "\n",
    "def response(sentence, userID='123', show_details=False):\n",
    "    results = classify(sentence)\n",
    "    # if we have a classification then find the matching intent tag\n",
    "    if results:\n",
    "        # loop as long as there are matches to process\n",
    "        while results:\n",
    "            for i in intents['intents']:\n",
    "                # find a tag matching the first result\n",
    "                if i['tag'] == results[0][0]:\n",
    "                    # a random response from the intent\n",
    "                    return print(random.choice(i['responses']))\n",
    "    else:\n",
    "        return print(\"Please choose from the given choices!\")\n",
    "\n",
    "    results.pop(0)"
   ]
  },
  {
   "cell_type": "code",
   "execution_count": 138,
   "metadata": {},
   "outputs": [
    {
     "name": "stdout",
     "output_type": "stream",
     "text": [
      "Welcome to Twiggy! Select your choice: Starters/Main Course/Desserts\n"
     ]
    }
   ],
   "source": [
    "response('hello')"
   ]
  },
  {
   "cell_type": "code",
   "execution_count": 139,
   "metadata": {},
   "outputs": [
    {
     "name": "stdout",
     "output_type": "stream",
     "text": [
      "Select food item : Spring Rolls/ Chilli Paneer/ Momos/ Paneer Tikka/ Achari Chaap\n"
     ]
    }
   ],
   "source": [
    "response('Starters')"
   ]
  },
  {
   "cell_type": "code",
   "execution_count": 140,
   "metadata": {},
   "outputs": [
    {
     "name": "stdout",
     "output_type": "stream",
     "text": [
      "Select portion: Full plate/Half Plate\n"
     ]
    }
   ],
   "source": [
    "response('Momos')"
   ]
  },
  {
   "cell_type": "code",
   "execution_count": 141,
   "metadata": {},
   "outputs": [
    {
     "name": "stdout",
     "output_type": "stream",
     "text": [
      "Choose your payment method: Online/Cash\n"
     ]
    }
   ],
   "source": [
    "response('Full')"
   ]
  },
  {
   "cell_type": "code",
   "execution_count": 142,
   "metadata": {},
   "outputs": [
    {
     "name": "stdout",
     "output_type": "stream",
     "text": [
      "Go to the payment gateway to confirm your order: www.twiggyonlinepayment.com\n"
     ]
    }
   ],
   "source": [
    "response('online')"
   ]
  },
  {
   "cell_type": "code",
   "execution_count": 143,
   "metadata": {},
   "outputs": [
    {
     "name": "stdout",
     "output_type": "stream",
     "text": [
      "Any time! :)\n"
     ]
    }
   ],
   "source": [
    "response('Thanks')"
   ]
  },
  {
   "cell_type": "code",
   "execution_count": null,
   "metadata": {},
   "outputs": [],
   "source": []
  }
 ],
 "metadata": {
  "kernelspec": {
   "display_name": "Python 3",
   "language": "python",
   "name": "python3"
  },
  "language_info": {
   "codemirror_mode": {
    "name": "ipython",
    "version": 3
   },
   "file_extension": ".py",
   "mimetype": "text/x-python",
   "name": "python",
   "nbconvert_exporter": "python",
   "pygments_lexer": "ipython3",
   "version": "3.6.5"
  }
 },
 "nbformat": 4,
 "nbformat_minor": 2
}
